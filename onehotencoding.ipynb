{
 "cells": [
  {
   "cell_type": "code",
   "execution_count": 11,
   "metadata": {},
   "outputs": [],
   "source": [
    "# Importing necessary libraries\n",
    "import pandas as pd\n",
    "from sklearn.preprocessing import OneHotEncoder\n",
    "\n",
    "# Creating a dictionary with sample data\n",
    "d = {\n",
    "    'sales': [100000, 222000, 1000000, 522000, 111111, 222222, 1111111, 20000, 75000, 90000, 1000000, 10000],\n",
    "    'city': ['Tampa', 'Tampa', 'Orlando', 'Jacksonville', 'Miami', 'Jacksonville', 'Miami', 'Miami', 'Orlando', 'Orlando', 'Orlando', 'Orlando'],\n",
    "    'size': ['Small', 'Medium', 'Large', 'Large', 'Small', 'Medium', 'Large', 'Small', 'Medium', 'Medium', 'Medium', 'Small']\n",
    "}"
   ]
  },
  {
   "cell_type": "code",
   "execution_count": 12,
   "metadata": {},
   "outputs": [],
   "source": [
    "df = pd.DataFrame(d)\n"
   ]
  },
  {
   "cell_type": "code",
   "execution_count": 13,
   "metadata": {},
   "outputs": [
    {
     "name": "stdout",
     "output_type": "stream",
     "text": [
      "Original DataFrame:\n",
      "     sales          city    size\n",
      "0   100000         Tampa   Small\n",
      "1   222000         Tampa  Medium\n",
      "2  1000000       Orlando   Large\n",
      "3   522000  Jacksonville   Large\n",
      "4   111111         Miami   Small\n"
     ]
    }
   ],
   "source": [
    "print(\"Original DataFrame:\")\n",
    "print(df.head())\n"
   ]
  },
  {
   "cell_type": "code",
   "execution_count": 25,
   "metadata": {},
   "outputs": [],
   "source": [
    "encoder = OneHotEncoder(drop=None, sparse_output=False)\n",
    "\n"
   ]
  },
  {
   "cell_type": "code",
   "execution_count": 26,
   "metadata": {},
   "outputs": [],
   "source": [
    "encoded_size = encoder.fit_transform(df[['size','city']])\n"
   ]
  },
  {
   "cell_type": "code",
   "execution_count": 27,
   "metadata": {},
   "outputs": [],
   "source": [
    "encoded_df = pd.DataFrame(encoded_size, columns=encoder.get_feature_names_out(['size','city']))"
   ]
  },
  {
   "cell_type": "code",
   "execution_count": 28,
   "metadata": {},
   "outputs": [],
   "source": [
    "df_final = pd.concat([df, encoded_df], axis=1).drop({'size','city'},axis=1)"
   ]
  },
  {
   "cell_type": "code",
   "execution_count": 29,
   "metadata": {},
   "outputs": [
    {
     "name": "stdout",
     "output_type": "stream",
     "text": [
      "\n",
      "Final DataFrame after one-hot encoding:\n",
      "      sales  size_Large  size_Medium  size_Small  city_Jacksonville  \\\n",
      "0    100000         0.0          0.0         1.0                0.0   \n",
      "1    222000         0.0          1.0         0.0                0.0   \n",
      "2   1000000         1.0          0.0         0.0                0.0   \n",
      "3    522000         1.0          0.0         0.0                1.0   \n",
      "4    111111         0.0          0.0         1.0                0.0   \n",
      "5    222222         0.0          1.0         0.0                1.0   \n",
      "6   1111111         1.0          0.0         0.0                0.0   \n",
      "7     20000         0.0          0.0         1.0                0.0   \n",
      "8     75000         0.0          1.0         0.0                0.0   \n",
      "9     90000         0.0          1.0         0.0                0.0   \n",
      "10  1000000         0.0          1.0         0.0                0.0   \n",
      "11    10000         0.0          0.0         1.0                0.0   \n",
      "\n",
      "    city_Miami  city_Orlando  city_Tampa  \n",
      "0          0.0           0.0         1.0  \n",
      "1          0.0           0.0         1.0  \n",
      "2          0.0           1.0         0.0  \n",
      "3          0.0           0.0         0.0  \n",
      "4          1.0           0.0         0.0  \n",
      "5          0.0           0.0         0.0  \n",
      "6          1.0           0.0         0.0  \n",
      "7          1.0           0.0         0.0  \n",
      "8          0.0           1.0         0.0  \n",
      "9          0.0           1.0         0.0  \n",
      "10         0.0           1.0         0.0  \n",
      "11         0.0           1.0         0.0  \n"
     ]
    }
   ],
   "source": [
    "print(\"\\nFinal DataFrame after one-hot encoding:\")\n",
    "print(df_final)"
   ]
  }
 ],
 "metadata": {
  "kernelspec": {
   "display_name": "venv",
   "language": "python",
   "name": "python3"
  },
  "language_info": {
   "codemirror_mode": {
    "name": "ipython",
    "version": 3
   },
   "file_extension": ".py",
   "mimetype": "text/x-python",
   "name": "python",
   "nbconvert_exporter": "python",
   "pygments_lexer": "ipython3",
   "version": "3.12.5"
  }
 },
 "nbformat": 4,
 "nbformat_minor": 2
}
